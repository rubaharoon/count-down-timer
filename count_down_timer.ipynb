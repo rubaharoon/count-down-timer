{
  "nbformat": 4,
  "nbformat_minor": 0,
  "metadata": {
    "colab": {
      "provenance": [],
      "authorship_tag": "ABX9TyMrW15pv9febCHJ6jDRzvt9",
      "include_colab_link": true
    },
    "kernelspec": {
      "name": "python3",
      "display_name": "Python 3"
    },
    "language_info": {
      "name": "python"
    }
  },
  "cells": [
    {
      "cell_type": "markdown",
      "metadata": {
        "id": "view-in-github",
        "colab_type": "text"
      },
      "source": [
        "<a href=\"https://colab.research.google.com/github/rubaharoon/count-down-timer/blob/main/count_down_timer.ipynb\" target=\"_parent\"><img src=\"https://colab.research.google.com/assets/colab-badge.svg\" alt=\"Open In Colab\"/></a>"
      ]
    },
    {
      "cell_type": "markdown",
      "source": [],
      "metadata": {
        "id": "pGmsPoEyYJdZ"
      }
    },
    {
      "cell_type": "markdown",
      "source": [
        "***\"Project 6: Count Down Timer Project\"***"
      ],
      "metadata": {
        "id": "JVduXZXIYPCx"
      }
    },
    {
      "cell_type": "code",
      "source": [
        "import time\n",
        "\n",
        "def countdown_timer():\n",
        "    print(\"⏳ Welcome to the Countdown Timer! 🚀\")\n",
        "\n",
        "    # Get user input for time in seconds\n",
        "    while True:\n",
        "        try:\n",
        "            seconds = int(input(\"⏰ Enter countdown time in seconds: \"))\n",
        "            if seconds < 0:\n",
        "                print(\"⚠️ Please enter a positive number!\")\n",
        "                continue\n",
        "            break\n",
        "        except ValueError:\n",
        "            print(\"⚠️ Invalid input! Please enter a valid number.\")\n",
        "\n",
        "    print(\"\\n🚦 Countdown starts now! 🎬\")\n",
        "\n",
        "    # Countdown loop\n",
        "    while seconds:\n",
        "        mins, secs = divmod(seconds, 60)\n",
        "        time_format = f\"{mins:02d}:{secs:02d}\"\n",
        "        print(f\"\\r⏳ Time left: {time_format}  \", end=\"\", flush=True)\n",
        "        time.sleep(1)\n",
        "        seconds -= 1\n",
        "\n",
        "    # Countdown complete message\n",
        "    print(\"\\n🎉 Time’s up! ⏰🎊\")\n",
        "\n",
        "# Run the timer\n",
        "countdown_timer()\n"
      ],
      "metadata": {
        "id": "mwL7rpmOZe6g",
        "outputId": "451e0847-a556-40db-e8ee-5cb4a2a696c8",
        "colab": {
          "base_uri": "https://localhost:8080/"
        }
      },
      "execution_count": 3,
      "outputs": [
        {
          "output_type": "stream",
          "name": "stdout",
          "text": [
            "⏳ Welcome to the Countdown Timer! 🚀\n",
            "⏰ Enter countdown time in seconds: 30\n",
            "\n",
            "🚦 Countdown starts now! 🎬\n",
            "⏳ Time left: 00:01  \n",
            "🎉 Time’s up! ⏰🎊\n"
          ]
        }
      ]
    }
  ]
}